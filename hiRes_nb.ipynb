{
 "cells": [
  {
   "cell_type": "markdown",
   "metadata": {},
   "source": [
    "# `hiRes`\n",
    "\n",
    "### Chris Hamm\n",
    "### 2023-08030\n",
    "\n",
    "\n",
    "A programs to increase the resolution of old digital photos"
   ]
  },
  {
   "cell_type": "code",
   "execution_count": 8,
   "metadata": {},
   "outputs": [],
   "source": [
    "# Preliminaries\n",
    "\n",
    "import torch\n",
    "import cv2\n",
    "from PIL import Image\n",
    "import numpy as np\n",
    "from RealESRGAN import RealESRGAN\n",
    "\n",
    "# purge cuda memory if needed\n",
    "torch.cuda.empty_cache()\n",
    "\n",
    "# If you need to limit memory \n",
    "import os\n",
    "os.environ[\"PYTORCH_CUDA_ALLOC_CONF\"] = \"max_split_size_mb:1028\"\n"
   ]
  },
  {
   "cell_type": "code",
   "execution_count": 5,
   "metadata": {},
   "outputs": [],
   "source": [
    "# This is from https://github.com/ai-forever/Real-ESRGAN\n",
    "\n",
    "device = torch.device('cuda' if torch.cuda.is_available() else 'cpu')\n",
    "\n",
    "model = RealESRGAN(device, scale=4)\n",
    "model.load_weights('/home/chris/Projects/Real-ESRGAN/weights/RealESRGAN_x4.pth', download=True)\n",
    "\n",
    "path_to_image = 'input/20160608101900891_0001.jpg'\n",
    "image = Image.open(path_to_image).convert('RGB')"
   ]
  },
  {
   "cell_type": "code",
   "execution_count": 7,
   "metadata": {},
   "outputs": [
    {
     "ename": "OutOfMemoryError",
     "evalue": "CUDA out of memory. Tried to allocate 930.00 MiB (GPU 0; 7.92 GiB total capacity; 4.85 GiB already allocated; 725.56 MiB free; 6.63 GiB reserved in total by PyTorch) If reserved memory is >> allocated memory try setting max_split_size_mb to avoid fragmentation.  See documentation for Memory Management and PYTORCH_CUDA_ALLOC_CONF",
     "output_type": "error",
     "traceback": [
      "\u001b[0;31m---------------------------------------------------------------------------\u001b[0m",
      "\u001b[0;31mOutOfMemoryError\u001b[0m                          Traceback (most recent call last)",
      "Cell \u001b[0;32mIn[7], line 2\u001b[0m\n\u001b[1;32m      1\u001b[0m \u001b[39m# enhance and save the  image\u001b[39;00m\n\u001b[0;32m----> 2\u001b[0m sr_image \u001b[39m=\u001b[39m model\u001b[39m.\u001b[39;49mpredict(image)\n\u001b[1;32m      4\u001b[0m sr_image\u001b[39m.\u001b[39msave(\u001b[39m\"\u001b[39m\u001b[39moutput/enc_20160608101900891_0001.jpg\u001b[39m\u001b[39m\"\u001b[39m)\n",
      "File \u001b[0;32m~/Projects/transformerForecasting/transformer-env/lib/python3.10/site-packages/torch/amp/autocast_mode.py:14\u001b[0m, in \u001b[0;36mautocast_decorator.<locals>.decorate_autocast\u001b[0;34m(*args, **kwargs)\u001b[0m\n\u001b[1;32m     11\u001b[0m \u001b[39m@functools\u001b[39m\u001b[39m.\u001b[39mwraps(func)\n\u001b[1;32m     12\u001b[0m \u001b[39mdef\u001b[39;00m \u001b[39mdecorate_autocast\u001b[39m(\u001b[39m*\u001b[39margs, \u001b[39m*\u001b[39m\u001b[39m*\u001b[39mkwargs):\n\u001b[1;32m     13\u001b[0m     \u001b[39mwith\u001b[39;00m autocast_instance:\n\u001b[0;32m---> 14\u001b[0m         \u001b[39mreturn\u001b[39;00m func(\u001b[39m*\u001b[39;49margs, \u001b[39m*\u001b[39;49m\u001b[39m*\u001b[39;49mkwargs)\n",
      "File \u001b[0;32m~/Projects/transformerForecasting/transformer-env/lib/python3.10/site-packages/RealESRGAN/model.py:75\u001b[0m, in \u001b[0;36mRealESRGAN.predict\u001b[0;34m(self, lr_image, batch_size, patches_size, padding, pad_size)\u001b[0m\n\u001b[1;32m     73\u001b[0m     res \u001b[39m=\u001b[39m \u001b[39mself\u001b[39m\u001b[39m.\u001b[39mmodel(img[\u001b[39m0\u001b[39m:batch_size])\n\u001b[1;32m     74\u001b[0m     \u001b[39mfor\u001b[39;00m i \u001b[39min\u001b[39;00m \u001b[39mrange\u001b[39m(batch_size, img\u001b[39m.\u001b[39mshape[\u001b[39m0\u001b[39m], batch_size):\n\u001b[0;32m---> 75\u001b[0m         res \u001b[39m=\u001b[39m torch\u001b[39m.\u001b[39;49mcat((res, \u001b[39mself\u001b[39;49m\u001b[39m.\u001b[39;49mmodel(img[i:i\u001b[39m+\u001b[39;49mbatch_size])), \u001b[39m0\u001b[39;49m)\n\u001b[1;32m     77\u001b[0m sr_image \u001b[39m=\u001b[39m res\u001b[39m.\u001b[39mpermute((\u001b[39m0\u001b[39m,\u001b[39m2\u001b[39m,\u001b[39m3\u001b[39m,\u001b[39m1\u001b[39m))\u001b[39m.\u001b[39mclamp_(\u001b[39m0\u001b[39m, \u001b[39m1\u001b[39m)\u001b[39m.\u001b[39mcpu()\n\u001b[1;32m     78\u001b[0m np_sr_image \u001b[39m=\u001b[39m sr_image\u001b[39m.\u001b[39mnumpy()\n",
      "\u001b[0;31mOutOfMemoryError\u001b[0m: CUDA out of memory. Tried to allocate 930.00 MiB (GPU 0; 7.92 GiB total capacity; 4.85 GiB already allocated; 725.56 MiB free; 6.63 GiB reserved in total by PyTorch) If reserved memory is >> allocated memory try setting max_split_size_mb to avoid fragmentation.  See documentation for Memory Management and PYTORCH_CUDA_ALLOC_CONF"
     ]
    }
   ],
   "source": [
    "# enhance and save the  image\n",
    "sr_image = model.predict(image)\n",
    "\n",
    "sr_image.save(\"output/enc_20160608101900891_0001.jpg\")"
   ]
  },
  {
   "cell_type": "markdown",
   "metadata": {},
   "source": [
    "# Now for movies!"
   ]
  },
  {
   "cell_type": "code",
   "execution_count": 7,
   "metadata": {},
   "outputs": [],
   "source": [
    "# this one was mostly me, a little pieced to gether by seeing you branched the above repo\n",
    "\n",
    "device = torch.device('cuda' if torch.cuda.is_available() else 'cpu')\n",
    "model = RealESRGAN(device, scale=2) # Note the 2, must match wiht model\n",
    "model.load_weights('/home/chris/Projects/Real-ESRGAN/weights/RealESRGAN_x2.pth', download=True)\n",
    "input_video_path = 'input/Monsanto_trimmed.mp4'\n",
    "output_video_path = 'output/enhanced_Monsanto_trimmed.mp4'\n",
    "\n",
    "cap = cv2.VideoCapture(input_video_path)\n",
    "frame_width = int(cap.get(3))\n",
    "frame_height = int(cap.get(4))\n",
    "fps = int(cap.get(5))\n",
    "\n",
    "fourcc = cv2.VideoWriter_fourcc(*'mp4v')\n",
    "out = cv2.VideoWriter(output_video_path, fourcc, fps, (frame_width * 2, frame_height * 2))\n",
    "\n",
    "while cap.isOpened():\n",
    "    ret, frame = cap.read()\n",
    "    if not ret:\n",
    "        break\n",
    "\n",
    "    image = Image.fromarray(cv2.cvtColor(frame, cv2.COLOR_BGR2RGB))\n",
    "    sr_image = model.predict(image)\n",
    "    sr_frame = np.array(sr_image)\n",
    "\n",
    "    # Convert the super-resolved frame back to BGR before writing the video\n",
    "    sr_frame_bgr = cv2.cvtColor(sr_frame, cv2.COLOR_RGB2BGR)\n",
    "    \n",
    "    out.write(sr_frame_bgr)\n",
    "    \n",
    "cap.release()\n",
    "out.release()"
   ]
  }
 ],
 "metadata": {
  "kernelspec": {
   "display_name": "tf-env",
   "language": "python",
   "name": "tf-env"
  },
  "language_info": {
   "codemirror_mode": {
    "name": "ipython",
    "version": 3
   },
   "file_extension": ".py",
   "mimetype": "text/x-python",
   "name": "python",
   "nbconvert_exporter": "python",
   "pygments_lexer": "ipython3",
   "version": "3.10.12"
  },
  "orig_nbformat": 4
 },
 "nbformat": 4,
 "nbformat_minor": 2
}
