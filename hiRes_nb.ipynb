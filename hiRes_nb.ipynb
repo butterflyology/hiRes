{
 "cells": [
  {
   "cell_type": "markdown",
   "metadata": {},
   "source": [
    "# `hiRes`\n",
    "\n",
    "### Chris Hamm\n",
    "### 2023-08030\n",
    "\n",
    "\n",
    "A programs to increase the resolution of old digital photos"
   ]
  },
  {
   "cell_type": "code",
   "execution_count": null,
   "metadata": {},
   "outputs": [],
   "source": [
    "# Preliminaries\n",
    "\n",
    "import realesrgan"
   ]
  },
  {
   "cell_type": "code",
   "execution_count": 1,
   "metadata": {},
   "outputs": [],
   "source": [
    "def enhance_resolution(input_path, output_path):\n",
    "    model_path = \"RealESRGAN_x4plus.pth\"  # You need to download or provide the path to the model\n",
    "    realesrgan.enhance(\n",
    "        input_path=input_path,\n",
    "        model_path=model_path,\n",
    "        output_path=output_path\n",
    "    )"
   ]
  },
  {
   "cell_type": "code",
   "execution_count": null,
   "metadata": {},
   "outputs": [],
   "source": [
    "input_image_path = \"path_to_your_input_image.jpg\"\n",
    "output_image_path = \"output_enhanced_image.jpg\"\n",
    "\n",
    "enhance_resolution(input_image_path, output_image_path)"
   ]
  }
 ],
 "metadata": {
  "kernelspec": {
   "display_name": "tf-env",
   "language": "python",
   "name": "tf-env"
  },
  "language_info": {
   "codemirror_mode": {
    "name": "ipython",
    "version": 3
   },
   "file_extension": ".py",
   "mimetype": "text/x-python",
   "name": "python",
   "nbconvert_exporter": "python",
   "pygments_lexer": "ipython3",
   "version": "3.10.12"
  },
  "orig_nbformat": 4
 },
 "nbformat": 4,
 "nbformat_minor": 2
}
