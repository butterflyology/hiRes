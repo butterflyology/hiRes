{
 "cells": [
  {
   "cell_type": "markdown",
   "metadata": {},
   "source": [
    "# `hiRes`\n",
    "\n",
    "### Chris Hamm\n",
    "### 2023-08030\n",
    "\n",
    "\n",
    "A programs to increase the resolution of old digital photos"
   ]
  },
  {
   "cell_type": "code",
   "execution_count": 1,
   "metadata": {},
   "outputs": [
    {
     "name": "stderr",
     "output_type": "stream",
     "text": [
      "/home/chris/Projects/transformerForecasting/transformer-env/lib/python3.10/site-packages/tqdm/auto.py:21: TqdmWarning: IProgress not found. Please update jupyter and ipywidgets. See https://ipywidgets.readthedocs.io/en/stable/user_install.html\n",
      "  from .autonotebook import tqdm as notebook_tqdm\n"
     ]
    }
   ],
   "source": [
    "# Preliminaries\n",
    "\n",
    "import torch\n",
    "import cv2\n",
    "from PIL import Image\n",
    "import numpy as np\n",
    "from RealESRGAN import RealESRGAN"
   ]
  },
  {
   "cell_type": "code",
   "execution_count": 4,
   "metadata": {},
   "outputs": [
    {
     "ename": "NameError",
     "evalue": "name 'path_to_image' is not defined",
     "output_type": "error",
     "traceback": [
      "\u001b[0;31m---------------------------------------------------------------------------\u001b[0m",
      "\u001b[0;31mNameError\u001b[0m                                 Traceback (most recent call last)",
      "Cell \u001b[0;32mIn[4], line 9\u001b[0m\n\u001b[1;32m      6\u001b[0m model\u001b[39m.\u001b[39mload_weights(\u001b[39m'\u001b[39m\u001b[39m/home/chris/Projects/Real-ESRGAN/weights/RealESRGAN_x4.pth\u001b[39m\u001b[39m'\u001b[39m, download\u001b[39m=\u001b[39m\u001b[39mTrue\u001b[39;00m)\n\u001b[1;32m      8\u001b[0m \u001b[39m#path_to_image = 'input/MaryBlairMonsanto.JPG'\u001b[39;00m\n\u001b[0;32m----> 9\u001b[0m image \u001b[39m=\u001b[39m Image\u001b[39m.\u001b[39mopen(path_to_image)\u001b[39m.\u001b[39mconvert(\u001b[39m'\u001b[39m\u001b[39mRGB\u001b[39m\u001b[39m'\u001b[39m)\n",
      "\u001b[0;31mNameError\u001b[0m: name 'path_to_image' is not defined"
     ]
    }
   ],
   "source": [
    "# This is from https://github.com/ai-forever/Real-ESRGAN\n",
    "\n",
    "device = torch.device('cuda' if torch.cuda.is_available() else 'cpu')\n",
    "\n",
    "model = RealESRGAN(device, scale=4)\n",
    "model.load_weights('/home/chris/Projects/Real-ESRGAN/weights/RealESRGAN_x4.pth', download=True)\n",
    "\n",
    "#path_to_image = 'input/MaryBlairMonsanto.JPG'\n",
    "image = Image.open(path_to_image).convert('RGB')"
   ]
  },
  {
   "cell_type": "code",
   "execution_count": 16,
   "metadata": {},
   "outputs": [],
   "source": [
    "# enhance and save the  image\n",
    "sr_image = model.predict(image)\n",
    "\n",
    "#sr_image.save(\"output/enhanced_MaryBlairMonsanto.JPG\")\n"
   ]
  },
  {
   "cell_type": "markdown",
   "metadata": {},
   "source": [
    "# Now for movies!"
   ]
  },
  {
   "cell_type": "code",
   "execution_count": 7,
   "metadata": {},
   "outputs": [],
   "source": [
    "# this one was mostly me, a little pieced to gether by seeing you branched the above repo\n",
    "\n",
    "device = torch.device('cuda' if torch.cuda.is_available() else 'cpu')\n",
    "model = RealESRGAN(device, scale=2) # Note the 2, must match wiht model\n",
    "model.load_weights('/home/chris/Projects/Real-ESRGAN/weights/RealESRGAN_x2.pth', download=True)\n",
    "input_video_path = 'input/Monsanto_trimmed.mp4'\n",
    "output_video_path = 'output/enhanced_Monsanto_trimmed.mp4'\n",
    "\n",
    "cap = cv2.VideoCapture(input_video_path)\n",
    "frame_width = int(cap.get(3))\n",
    "frame_height = int(cap.get(4))\n",
    "fps = int(cap.get(5))\n",
    "\n",
    "fourcc = cv2.VideoWriter_fourcc(*'mp4v')\n",
    "out = cv2.VideoWriter(output_video_path, fourcc, fps, (frame_width * 2, frame_height * 2))\n",
    "\n",
    "while cap.isOpened():\n",
    "    ret, frame = cap.read()\n",
    "    if not ret:\n",
    "        break\n",
    "\n",
    "    image = Image.fromarray(cv2.cvtColor(frame, cv2.COLOR_BGR2RGB))\n",
    "    sr_image = model.predict(image)\n",
    "    sr_frame = np.array(sr_image)\n",
    "\n",
    "    # Convert the super-resolved frame back to BGR before writing the video\n",
    "    sr_frame_bgr = cv2.cvtColor(sr_frame, cv2.COLOR_RGB2BGR)\n",
    "    \n",
    "    out.write(sr_frame_bgr)\n",
    "    \n",
    "cap.release()\n",
    "out.release()"
   ]
  }
 ],
 "metadata": {
  "kernelspec": {
   "display_name": "tf-env",
   "language": "python",
   "name": "tf-env"
  },
  "language_info": {
   "codemirror_mode": {
    "name": "ipython",
    "version": 3
   },
   "file_extension": ".py",
   "mimetype": "text/x-python",
   "name": "python",
   "nbconvert_exporter": "python",
   "pygments_lexer": "ipython3",
   "version": "3.10.12"
  },
  "orig_nbformat": 4
 },
 "nbformat": 4,
 "nbformat_minor": 2
}
